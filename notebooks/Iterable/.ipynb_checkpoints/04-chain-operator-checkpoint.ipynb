{
 "cells": [
  {
   "cell_type": "markdown",
   "metadata": {},
   "source": [
    "examples from https://github.com/ReactiveX/IxJS"
   ]
  },
  {
   "cell_type": "markdown",
   "metadata": {},
   "source": [
    "We can mix the two approaches by adding the minimal `chain` operator which then allows us to create a more fluent style but yet keeping the surface area to a minimum."
   ]
  },
  {
   "cell_type": "code",
   "execution_count": 1,
   "metadata": {
    "collapsed": false
   },
   "outputs": [
    {
     "data": {
      "text/plain": [
       "{ chainProto: [Function: chainProto] }"
      ]
     },
     "execution_count": 1,
     "metadata": {},
     "output_type": "execute_result"
    }
   ],
   "source": [
    "// CommonJS\n",
    "const Iterable = require('ix/iterable').IterableX;\n",
    "require('ix/add/iterable-operators/chain');\n",
    "const of = require('ix/iterable/of').of;\n",
    "const filter = require('ix/iterable/filter').filter;\n",
    "const map = require('ix/iterable/map').map;"
   ]
  },
  {
   "cell_type": "code",
   "execution_count": 2,
   "metadata": {
    "collapsed": false
   },
   "outputs": [
    {
     "name": "stdout",
     "output_type": "stream",
     "text": [
      "Next 4\n"
     ]
    }
   ],
   "source": [
    "const results = of(1,2,3)\n",
    "  .chain(source => filter(source, x => x % 2 === 0))\n",
    "  .chain(source => map(source, x => x * x));\n",
    "\n",
    "for (let item of results) {\n",
    "  console.log(`Next ${item}`)\n",
    "}"
   ]
  },
  {
   "cell_type": "code",
   "execution_count": null,
   "metadata": {
    "collapsed": true
   },
   "outputs": [],
   "source": []
  }
 ],
 "metadata": {
  "kernelspec": {
   "display_name": "Javascript (Node.js)",
   "language": "javascript",
   "name": "javascript"
  },
  "language_info": {
   "file_extension": ".js",
   "mimetype": "application/javascript",
   "name": "javascript",
   "version": "8.6.0"
  }
 },
 "nbformat": 4,
 "nbformat_minor": 2
}
