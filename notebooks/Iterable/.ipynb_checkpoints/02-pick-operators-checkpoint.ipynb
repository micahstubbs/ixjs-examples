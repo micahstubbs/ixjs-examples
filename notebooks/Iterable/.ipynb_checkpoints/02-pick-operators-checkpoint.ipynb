{
 "cells": [
  {
   "cell_type": "markdown",
   "metadata": {},
   "source": [
    "examples from https://github.com/ReactiveX/IxJS"
   ]
  },
  {
   "cell_type": "code",
   "execution_count": 1,
   "metadata": {
    "collapsed": true
   },
   "outputs": [],
   "source": [
    "const Ix = require('ix');"
   ]
  },
  {
   "cell_type": "markdown",
   "metadata": {},
   "source": [
    "Instead of bringing in the entire library for `AsyncIterable`, we can pick and choose which operators we want, for bundling concerns."
   ]
  },
  {
   "cell_type": "code",
   "execution_count": 2,
   "metadata": {
    "collapsed": false
   },
   "outputs": [
    {
     "name": "stdout",
     "output_type": "stream",
     "text": [
      "results MapIterable {\n",
      "  _source: OfIterable { _args: [ 1, 2, 3 ] },\n",
      "  _selector: [Function] }\n"
     ]
    }
   ],
   "source": [
    "// CommonJS\n",
    "const Iterable = require('ix/iterable').IterableX;\n",
    "require('ix/add/iterable/of');\n",
    "require('ix/add/iterable-operators/map');\n",
    "\n",
    "let results = Iterable.of(1,2,3)\n",
    "  .map(x => x + '!!');\n",
    "\n",
    "console.log('results', results); "
   ]
  },
  {
   "cell_type": "code",
   "execution_count": null,
   "metadata": {
    "collapsed": true
   },
   "outputs": [],
   "source": []
  }
 ],
 "metadata": {
  "kernelspec": {
   "display_name": "Javascript (Node.js)",
   "language": "javascript",
   "name": "javascript"
  },
  "language_info": {
   "file_extension": ".js",
   "mimetype": "application/javascript",
   "name": "javascript",
   "version": "8.6.0"
  }
 },
 "nbformat": 4,
 "nbformat_minor": 2
}
