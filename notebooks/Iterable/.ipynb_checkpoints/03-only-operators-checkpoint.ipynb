{
 "cells": [
  {
   "cell_type": "markdown",
   "metadata": {},
   "source": [
    "examples from https://github.com/ReactiveX/IxJS"
   ]
  },
  {
   "cell_type": "markdown",
   "metadata": {},
   "source": [
    "We can also bring in only the operators that we want to using just the operators themselves.  Many of these operators take a simple `AsyncIterable` source from `async function*` functions such as the `map` and `filter` functions."
   ]
  },
  {
   "cell_type": "code",
   "execution_count": 1,
   "metadata": {
    "collapsed": false
   },
   "outputs": [
    {
     "name": "stdout",
     "output_type": "stream",
     "text": [
      "Next 4\n"
     ]
    }
   ],
   "source": [
    "const map = require('ix/iterable/map').map;\n",
    "const filter = require('ix/iterable/filter').filter;\n",
    "\n",
    "const source = [1,2,3];\n",
    "const results = map(\n",
    "  filter(\n",
    "    source,\n",
    "    x => x % 2 === 0\n",
    "  ),\n",
    "  x => x * x\n",
    ");\n",
    "\n",
    "for (let item of results) {\n",
    "  console.log(`Next ${item}`);\n",
    "}"
   ]
  },
  {
   "cell_type": "code",
   "execution_count": null,
   "metadata": {
    "collapsed": true
   },
   "outputs": [],
   "source": []
  }
 ],
 "metadata": {
  "kernelspec": {
   "display_name": "Javascript (Node.js)",
   "language": "javascript",
   "name": "javascript"
  },
  "language_info": {
   "file_extension": ".js",
   "mimetype": "application/javascript",
   "name": "javascript",
   "version": "8.6.0"
  }
 },
 "nbformat": 4,
 "nbformat_minor": 2
}
