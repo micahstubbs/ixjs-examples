{
 "cells": [
  {
   "cell_type": "markdown",
   "metadata": {},
   "source": [
    "examples from https://github.com/ReactiveX/IxJS"
   ]
  },
  {
   "cell_type": "code",
   "execution_count": 1,
   "metadata": {
    "collapsed": true
   },
   "outputs": [],
   "source": [
    "const Ix = require('ix');"
   ]
  },
  {
   "cell_type": "markdown",
   "metadata": {},
   "source": [
    "The `Iterable` class a way to create and compose synchronous collections much like Arrays, Maps and Sets in JavaScript using the Array#extras style using the familiar methods you are used to like `map`, `filter`, `reduce` and more."
   ]
  },
  {
   "cell_type": "code",
   "execution_count": 3,
   "metadata": {
    "collapsed": false
   },
   "outputs": [
    {
     "name": "stdout",
     "output_type": "stream",
     "text": [
      "Next 4\n",
      "Next 8\n"
     ]
    }
   ],
   "source": [
    "Ix.Iterable.from([1,2,3,4])\n",
    "  .filter(x => x % 2 === 0)\n",
    "  .map(x => x * 2)\n",
    "  .forEach(x => console.log(`Next ${x}`));"
   ]
  },
  {
   "cell_type": "markdown",
   "metadata": {},
   "source": [
    "Alternatively, we can use the [`for ... of`](https://developer.mozilla.org/en-US/docs/Web/JavaScript/Reference/Statements/for...of) statements to iterate our collections."
   ]
  },
  {
   "cell_type": "code",
   "execution_count": 13,
   "metadata": {
    "collapsed": false
   },
   "outputs": [
    {
     "name": "stdout",
     "output_type": "stream",
     "text": [
      "Next 4\n",
      "Next 8\n"
     ]
    }
   ],
   "source": [
    "let results = Ix.Iterable.from([1,2,3,4])\n",
    "  .filter(x => x % 2 === 0)\n",
    "  .map(x => x * 2);\n",
    "\n",
    "for (let item of results) {\n",
    "  console.log(`Next ${item}`);\n",
    "}"
   ]
  },
  {
   "cell_type": "markdown",
   "metadata": {},
   "source": [
    "Instead of bringing in the entire library for `Iterable`, we can pick and choose which operators we want, for bundling concerns."
   ]
  },
  {
   "cell_type": "code",
   "execution_count": 14,
   "metadata": {
    "collapsed": false
   },
   "outputs": [
    {
     "data": {
      "text/plain": [
       "{ mapProto: [Function: mapProto] }"
      ]
     },
     "execution_count": 14,
     "metadata": {},
     "output_type": "execute_result"
    }
   ],
   "source": [
    "// CommonJS\n",
    "const Iterable = require('ix/iterable').IterableX;\n",
    "require('ix/add/iterable/of');\n",
    "require('ix/add/iterable-operators/map');"
   ]
  },
  {
   "cell_type": "code",
   "execution_count": 15,
   "metadata": {
    "collapsed": true
   },
   "outputs": [],
   "source": [
    "let results2 = Iterable.of(1,2,3)\n",
    "  .map(x => x + '!!');"
   ]
  },
  {
   "cell_type": "code",
   "execution_count": 16,
   "metadata": {
    "collapsed": false
   },
   "outputs": [
    {
     "name": "stdout",
     "output_type": "stream",
     "text": [
      "results2 MapIterable {\n",
      "  _source: OfIterable { _args: [ 1, 2, 3 ] },\n",
      "  _selector: [Function] }\n"
     ]
    }
   ],
   "source": [
    "console.log('results2', results2);"
   ]
  },
  {
   "cell_type": "markdown",
   "metadata": {},
   "source": [
    "We can also bring in only the operators that we want to using just the operators themselves.  Many of these operators take a simple `Iterable` source such as an `Array`, `Map`, `Set` or generator function such as our `map` and `filter` functions."
   ]
  },
  {
   "cell_type": "code",
   "execution_count": 18,
   "metadata": {
    "collapsed": true
   },
   "outputs": [
    {
     "ename": "SyntaxError",
     "evalue": "Identifier 'map' has already been declared",
     "output_type": "error",
     "traceback": [
      "evalmachine.<anonymous>:1",
      "const map = require('ix/iterable/map').map;",
      "^",
      "",
      "SyntaxError: Identifier 'map' has already been declared",
      "    at evalmachine.<anonymous>:1:1",
      "    at ContextifyScript.Script.runInThisContext (vm.js:44:33)",
      "    at Object.runInThisContext (vm.js:116:38)",
      "    at run ([eval]:617:19)",
      "    at onRunRequest ([eval]:388:22)",
      "    at onMessage ([eval]:356:17)",
      "    at emitTwo (events.js:125:13)",
      "    at process.emit (events.js:213:7)",
      "    at emit (internal/child_process.js:768:12)",
      "    at _combinedTickCallback (internal/process/next_tick.js:141:11)"
     ]
    }
   ],
   "source": [
    "const map = require('ix/iterable/map').map;"
   ]
  },
  {
   "cell_type": "code",
   "execution_count": 19,
   "metadata": {
    "collapsed": true
   },
   "outputs": [],
   "source": [
    "const filter = require('ix/iterable/filter').filter;"
   ]
  },
  {
   "cell_type": "code",
   "execution_count": 21,
   "metadata": {
    "collapsed": false
   },
   "outputs": [
    {
     "name": "stdout",
     "output_type": "stream",
     "text": [
      "Next 4\n"
     ]
    }
   ],
   "source": [
    "var source = [1,2,3];\n",
    "var results3 = map(\n",
    "  filter(\n",
    "    source,\n",
    "    x => x % 2 === 0\n",
    "  ),\n",
    "  x => x * x\n",
    ");\n",
    "\n",
    "for (let item of results3) {\n",
    "  console.log(`Next ${item}`);\n",
    "}"
   ]
  },
  {
   "cell_type": "markdown",
   "metadata": {},
   "source": [
    "aside: let's try to implement this with vanilla JS array methods\n"
   ]
  },
  {
   "cell_type": "code",
   "execution_count": 23,
   "metadata": {
    "collapsed": false
   },
   "outputs": [
    {
     "name": "stdout",
     "output_type": "stream",
     "text": [
      "Next 4\n"
     ]
    }
   ],
   "source": [
    "var source  = [1,2,3];\n",
    "var results3 = source\n",
    "  .filter(x => x % 2 === 0)\n",
    "  .map(x => x * x);\n",
    "\n",
    "for (let item of results3) {\n",
    "  console.log(`Next ${item}`);\n",
    "}"
   ]
  },
  {
   "cell_type": "markdown",
   "metadata": {},
   "source": [
    "question: what do we achieve with IxJS over vanilla JS array methods? not clear in this example, so should probably look at the other examples :thinking-face:"
   ]
  },
  {
   "cell_type": "markdown",
   "metadata": {},
   "source": [
    "let's go on to the next example\n",
    "\n"
   ]
  },
  {
   "cell_type": "markdown",
   "metadata": {},
   "source": [
    "We can mix the two approaches by adding the minimal `chain` operator which then allows us to create a more fluent style but yet keeping the surface area to a minimum."
   ]
  },
  {
   "cell_type": "code",
   "execution_count": 24,
   "metadata": {
    "collapsed": false
   },
   "outputs": [
    {
     "data": {
      "text/plain": [
       "{ chainProto: [Function: chainProto] }"
      ]
     },
     "execution_count": 24,
     "metadata": {},
     "output_type": "execute_result"
    }
   ],
   "source": [
    "// CommonJS\n",
    "// const Iterable = require('ix/iterable').IterableX;\n",
    "require('ix/add/iterable-operators/chain');\n",
    "const of = require('ix/iterable/of');\n",
    "// const filter = require('ix/iterable/filter');\n",
    "// const map = require('ix/iterable/map');"
   ]
  },
  {
   "cell_type": "markdown",
   "metadata": {},
   "source": [
    "going to use separate notebooks now for each example, to avoid variables clobbering each other"
   ]
  },
  {
   "cell_type": "code",
   "execution_count": null,
   "metadata": {
    "collapsed": true
   },
   "outputs": [],
   "source": []
  }
 ],
 "metadata": {
  "kernelspec": {
   "display_name": "Javascript (Node.js)",
   "language": "javascript",
   "name": "javascript"
  },
  "language_info": {
   "file_extension": ".js",
   "mimetype": "application/javascript",
   "name": "javascript",
   "version": "8.2.1"
  }
 },
 "nbformat": 4,
 "nbformat_minor": 2
}
